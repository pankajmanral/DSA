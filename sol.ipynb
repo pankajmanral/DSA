{
 "cells": [
  {
   "cell_type": "code",
   "execution_count": 24,
   "metadata": {},
   "outputs": [
    {
     "name": "stdout",
     "output_type": "stream",
     "text": [
      "[3, 5, 12, 0, 0]\n"
     ]
    }
   ],
   "source": [
    "nums = [3,0,5,12,0]\n",
    "count = len(nums)\n",
    "non_zero = []\n",
    "for value in nums:\n",
    "    if value != 0:\n",
    "        non_zero.append(value)\n",
    "non_zero_count = len(non_zero)\n",
    "while count > non_zero_count:\n",
    "    non_zero.append(0)\n",
    "    non_zero_count += 1\n",
    "\n",
    "print(non_zero)"
   ]
  },
  {
   "cell_type": "code",
   "execution_count": 34,
   "metadata": {},
   "outputs": [
    {
     "name": "stdout",
     "output_type": "stream",
     "text": [
      "[3, 5, 12, 0, 0]\n"
     ]
    }
   ],
   "source": [
    "nums = [3,0,5,12,0]\n",
    "index = 0\n",
    "\n",
    "for i in range(len(nums)):\n",
    "    if nums[i] != 0:\n",
    "        nums[index],nums[i] = nums[i],nums[index] \n",
    "        index += 1 \n",
    "\n",
    "print(nums)"
   ]
  },
  {
   "cell_type": "code",
   "execution_count": 13,
   "metadata": {},
   "outputs": [
    {
     "name": "stdout",
     "output_type": "stream",
     "text": [
      "1\n",
      "1\n",
      "1\n"
     ]
    }
   ],
   "source": [
    "nums = [1,2,1,1,2,2,2,21,1,1,1,1,1,1,1]\n",
    "count = {}\n",
    "for value in nums:\n",
    "    if value not in count:\n",
    "        count[value] = 1\n",
    "    else:\n",
    "        count[value] += 1\n",
    "    if count[value] > len(nums)/2:\n",
    "        print(value)\n",
    "\n",
    "# print(count)"
   ]
  }
 ],
 "metadata": {
  "kernelspec": {
   "display_name": "Python 3",
   "language": "python",
   "name": "python3"
  },
  "language_info": {
   "codemirror_mode": {
    "name": "ipython",
    "version": 3
   },
   "file_extension": ".py",
   "mimetype": "text/x-python",
   "name": "python",
   "nbconvert_exporter": "python",
   "pygments_lexer": "ipython3",
   "version": "3.12.5"
  }
 },
 "nbformat": 4,
 "nbformat_minor": 2
}
